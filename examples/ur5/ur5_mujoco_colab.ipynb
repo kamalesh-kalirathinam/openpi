{
 "cells": [
  {
   "cell_type": "markdown",
   "id": "54a5bbad",
   "metadata": {},
   "source": [
    "# UR5 MuJoCo Inference on Google Colab\n",
    "\n",
    "This notebook walks through installing dependencies, downloading a UR5 MuJoCo model, and wiring the UR5-specific observation/action transforms described in the repository into an `openpi` policy for simulation inference. We reuse the UR5e normalization statistics that ship with the base checkpoints so the policy receives states and actions in the correct scale."
   ]
  },
  {
   "cell_type": "markdown",
   "id": "3050519f",
   "metadata": {},
   "source": [
    "## 0. Runtime preparation\n",
    "\n",
    "* In Colab choose **Runtime → Change runtime type → GPU (T4 or better)**.\n",
    "* Connect the runtime before running the cells below."
   ]
  },
  {
   "cell_type": "code",
   "execution_count": 1,
   "id": "6900217d",
   "metadata": {
    "execution": {
     "iopub.execute_input": "2025-09-16T22:54:56.557687Z",
     "iopub.status.busy": "2025-09-16T22:54:56.557458Z",
     "iopub.status.idle": "2025-09-16T22:54:56.565916Z",
     "shell.execute_reply": "2025-09-16T22:54:56.565332Z"
    }
   },
   "outputs": [
    {
     "name": "stdout",
     "output_type": "stream",
     "text": [
      "Running outside of Colab; skipping Miniconda setup.\n"
     ]
    }
   ],
   "source": [
    "# Detect whether we're running inside Google Colab and install Miniconda if needed.\n",
    "# The first execution in Colab restarts the runtime; rerun after reconnecting.\n",
    "import os\n",
    "import subprocess\n",
    "import sys\n",
    "\n",
    "IS_COLAB = \"COLAB_RELEASE_TAG\" in os.environ\n",
    "if IS_COLAB:\n",
    "    subprocess.run([sys.executable, '-m', 'pip', 'install', '-q', 'condacolab'], check=True)\n",
    "    import condacolab\n",
    "    condacolab.install_miniconda(python_version='3.11')\n",
    "else:\n",
    "    print('Running outside of Colab; skipping Miniconda setup.')"
   ]
  },
  {
   "cell_type": "code",
   "execution_count": 2,
   "id": "34e0870e",
   "metadata": {
    "execution": {
     "iopub.execute_input": "2025-09-16T22:54:56.568007Z",
     "iopub.status.busy": "2025-09-16T22:54:56.567835Z",
     "iopub.status.idle": "2025-09-16T22:54:56.575107Z",
     "shell.execute_reply": "2025-09-16T22:54:56.574397Z"
    }
   },
   "outputs": [
    {
     "name": "stdout",
     "output_type": "stream",
     "text": [
      "Notebook directory: /workspace/openpi/examples/ur5\n",
      "Repository root: /workspace/openpi\n",
      "Runtime root: /root/openpi_ur5_notebook\n",
      "Menagerie directory: /root/openpi_ur5_notebook/mujoco_menagerie\n",
      "OpenPI cache directory: /root/openpi_ur5_notebook/openpi_cache\n"
     ]
    }
   ],
   "source": [
    "import os\n",
    "import pathlib\n",
    "import sys\n",
    "\n",
    "NOTEBOOK_DIR = pathlib.Path.cwd()\n",
    "\n",
    "def _find_repo_root(start: pathlib.Path) -> pathlib.Path:\n",
    "    for path in (start,) + tuple(start.parents):\n",
    "        if (path / 'pyproject.toml').exists():\n",
    "            return path\n",
    "    return start\n",
    "\n",
    "REPO_ROOT = _find_repo_root(NOTEBOOK_DIR)\n",
    "\n",
    "if IS_COLAB:\n",
    "    runtime_root = pathlib.Path('/content')\n",
    "else:\n",
    "    default_root = pathlib.Path(os.environ.get('OPENPI_NOTEBOOK_DATA_ROOT', str(pathlib.Path.home() / 'openpi_ur5_notebook')))\n",
    "    if not default_root.is_absolute():\n",
    "        default_root = NOTEBOOK_DIR / default_root\n",
    "    runtime_root = default_root\n",
    "\n",
    "RUNTIME_ROOT = runtime_root.expanduser().resolve()\n",
    "RUNTIME_ROOT.mkdir(parents=True, exist_ok=True)\n",
    "\n",
    "MENAGERIE_DIR = RUNTIME_ROOT / 'mujoco_menagerie'\n",
    "CACHE_DIR = RUNTIME_ROOT / 'openpi_cache'\n",
    "CACHE_DIR.mkdir(parents=True, exist_ok=True)\n",
    "\n",
    "src_path = REPO_ROOT / 'src'\n",
    "if src_path.exists() and str(src_path) not in sys.path:\n",
    "    sys.path.insert(0, str(src_path))\n",
    "\n",
    "print(f'Notebook directory: {NOTEBOOK_DIR}')\n",
    "print(f'Repository root: {REPO_ROOT}')\n",
    "print(f'Runtime root: {RUNTIME_ROOT}')\n",
    "print(f'Menagerie directory: {MENAGERIE_DIR}')\n",
    "print(f'OpenPI cache directory: {CACHE_DIR}')"
   ]
  },
  {
   "cell_type": "markdown",
   "id": "6eb7cef8",
   "metadata": {},
   "source": [
    "## 1. Python packages\n",
    "\n",
    "After the runtime restarts, rerun the previous cell once (it becomes a no-op) and execute the cell below to install the packages required for MuJoCo and `openpi`."
   ]
  },
  {
   "cell_type": "code",
   "execution_count": 3,
   "id": "484ae33d",
   "metadata": {
    "execution": {
     "iopub.execute_input": "2025-09-16T22:54:56.577165Z",
     "iopub.status.busy": "2025-09-16T22:54:56.576973Z",
     "iopub.status.idle": "2025-09-16T22:54:56.581614Z",
     "shell.execute_reply": "2025-09-16T22:54:56.581062Z"
    }
   },
   "outputs": [
    {
     "name": "stdout",
     "output_type": "stream",
     "text": [
      "Non-Colab environment detected; skipping package installation.\n"
     ]
    }
   ],
   "source": [
    "import os\n",
    "import subprocess\n",
    "import sys\n",
    "\n",
    "os.environ.setdefault('GIT_LFS_SKIP_SMUDGE', '1')\n",
    "os.environ.setdefault('XLA_PYTHON_CLIENT_PREALLOCATE', 'false')\n",
    "\n",
    "pip_cmd = [sys.executable, '-m', 'pip']\n",
    "if IS_COLAB:\n",
    "    subprocess.run(pip_cmd + ['install', '--upgrade', 'pip'], check=True)\n",
    "    subprocess.run(\n",
    "        pip_cmd + ['install', '--quiet', 'mujoco==3.2.3', 'mediapy==1.2.4', 'imageio==2.36.1'],\n",
    "        check=True,\n",
    "    )\n",
    "    subprocess.run(\n",
    "        pip_cmd + ['install', '--quiet', 'git+https://github.com/Physical-Intelligence/openpi.git'],\n",
    "        check=True,\n",
    "    )\n",
    "else:\n",
    "    print('Non-Colab environment detected; skipping package installation.')"
   ]
  },
  {
   "cell_type": "markdown",
   "id": "1e7c3349",
   "metadata": {},
   "source": [
    "## 2. Download MuJoCo UR5 assets\n",
    "\n",
    "This step pulls only the UR5e files from the MuJoCo Menagerie repository using sparse checkout."
   ]
  },
  {
   "cell_type": "code",
   "execution_count": 4,
   "id": "0bf5c38b",
   "metadata": {
    "execution": {
     "iopub.execute_input": "2025-09-16T22:54:56.583708Z",
     "iopub.status.busy": "2025-09-16T22:54:56.583493Z",
     "iopub.status.idle": "2025-09-16T22:54:56.892455Z",
     "shell.execute_reply": "2025-09-16T22:54:56.891712Z"
    }
   },
   "outputs": [
    {
     "name": "stdout",
     "output_type": "stream",
     "text": [
      "Already up to date.\n",
      "MuJoCo menagerie ready at /root/openpi_ur5_notebook/mujoco_menagerie\n"
     ]
    }
   ],
   "source": [
    "import subprocess\n",
    "\n",
    "if not MENAGERIE_DIR.exists():\n",
    "    MENAGERIE_DIR.parent.mkdir(parents=True, exist_ok=True)\n",
    "    subprocess.run(\n",
    "        [\n",
    "            'git',\n",
    "            'clone',\n",
    "            '--filter=blob:none',\n",
    "            '--depth',\n",
    "            '1',\n",
    "            '--sparse',\n",
    "            'https://github.com/google-deepmind/mujoco_menagerie.git',\n",
    "            str(MENAGERIE_DIR),\n",
    "        ],\n",
    "        check=True,\n",
    "    )\n",
    "    subprocess.run(['git', 'sparse-checkout', 'init', '--cone'], cwd=MENAGERIE_DIR, check=True)\n",
    "    subprocess.run(['git', 'sparse-checkout', 'set', 'universal_robots_ur5e'], cwd=MENAGERIE_DIR, check=True)\n",
    "else:\n",
    "    subprocess.run(['git', 'pull'], cwd=MENAGERIE_DIR, check=True)\n",
    "\n",
    "print(f'MuJoCo menagerie ready at {MENAGERIE_DIR}')"
   ]
  },
  {
   "cell_type": "code",
   "execution_count": 5,
   "id": "61c7e75c",
   "metadata": {
    "execution": {
     "iopub.execute_input": "2025-09-16T22:54:56.894919Z",
     "iopub.status.busy": "2025-09-16T22:54:56.894690Z",
     "iopub.status.idle": "2025-09-16T22:54:56.899594Z",
     "shell.execute_reply": "2025-09-16T22:54:56.898791Z"
    }
   },
   "outputs": [
    {
     "name": "stdout",
     "output_type": "stream",
     "text": [
      "Using MuJoCo scene: /root/openpi_ur5_notebook/mujoco_menagerie/universal_robots_ur5e/scene.xml\n"
     ]
    }
   ],
   "source": [
    "import os\n",
    "\n",
    "os.environ.setdefault('OPENPI_DATA_HOME', str(CACHE_DIR))\n",
    "os.environ.setdefault('JAX_PLATFORM_NAME', 'gpu' if IS_COLAB else 'cpu')\n",
    "\n",
    "UR5_ASSET_DIR = MENAGERIE_DIR / 'universal_robots_ur5e'\n",
    "SCENE_XML = UR5_ASSET_DIR / 'scene.xml'\n",
    "if not SCENE_XML.exists():\n",
    "    raise FileNotFoundError(f'Missing MuJoCo scene at {SCENE_XML}')\n",
    "print('Using MuJoCo scene:', SCENE_XML)"
   ]
  },
  {
   "cell_type": "code",
   "execution_count": 6,
   "id": "09a8a678",
   "metadata": {
    "execution": {
     "iopub.execute_input": "2025-09-16T22:54:56.901593Z",
     "iopub.status.busy": "2025-09-16T22:54:56.901375Z",
     "iopub.status.idle": "2025-09-16T22:54:56.908660Z",
     "shell.execute_reply": "2025-09-16T22:54:56.908030Z"
    }
   },
   "outputs": [],
   "source": [
    "# Provide a lightweight stub for `lerobot` when the package is unavailable.\n",
    "import sys\n",
    "import types\n",
    "\n",
    "try:\n",
    "    import lerobot.common.datasets.lerobot_dataset as _lerobot_dataset  # noqa: F401\n",
    "except ModuleNotFoundError:\n",
    "    root_mod = types.ModuleType('lerobot')\n",
    "    common_mod = types.ModuleType('lerobot.common')\n",
    "    datasets_mod = types.ModuleType('lerobot.common.datasets')\n",
    "\n",
    "    class _StubLeRobotDatasetMetadata:\n",
    "        def __init__(self, repo_id: str):\n",
    "            self.repo_id = repo_id\n",
    "            self.fps = 20.0\n",
    "            self.tasks = []\n",
    "\n",
    "    class _StubLeRobotDataset:\n",
    "        def __init__(self, repo_id: str, delta_timestamps: dict | None = None, **_kwargs):\n",
    "            self.repo_id = repo_id\n",
    "            self.delta_timestamps = {} if delta_timestamps is None else delta_timestamps\n",
    "            self.tasks = []\n",
    "\n",
    "        def __getitem__(self, index):\n",
    "            raise IndexError('LeRobot dataset stub has no samples')\n",
    "\n",
    "        def __len__(self):\n",
    "            return 0\n",
    "\n",
    "        @classmethod\n",
    "        def create(cls, *args, **kwargs):\n",
    "            return cls(args[0] if args else kwargs.get('repo_id', 'stub'))\n",
    "\n",
    "    dataset_mod = types.ModuleType('lerobot.common.datasets.lerobot_dataset')\n",
    "    dataset_mod.LeRobotDatasetMetadata = _StubLeRobotDatasetMetadata\n",
    "    dataset_mod.LeRobotDataset = _StubLeRobotDataset\n",
    "\n",
    "    root_mod.common = common_mod\n",
    "    common_mod.datasets = datasets_mod\n",
    "    datasets_mod.lerobot_dataset = dataset_mod\n",
    "\n",
    "    sys.modules['lerobot'] = root_mod\n",
    "    sys.modules['lerobot.common'] = common_mod\n",
    "    sys.modules['lerobot.common.datasets'] = datasets_mod\n",
    "    sys.modules['lerobot.common.datasets.lerobot_dataset'] = dataset_mod"
   ]
  },
  {
   "cell_type": "code",
   "execution_count": 7,
   "id": "69716d25",
   "metadata": {
    "execution": {
     "iopub.execute_input": "2025-09-16T22:54:56.910625Z",
     "iopub.status.busy": "2025-09-16T22:54:56.910409Z",
     "iopub.status.idle": "2025-09-16T22:55:03.351959Z",
     "shell.execute_reply": "2025-09-16T22:55:03.351522Z"
    }
   },
   "outputs": [],
   "source": [
    "import dataclasses\n",
    "import pathlib\n",
    "from typing import Any\n",
    "\n",
    "import numpy as np\n",
    "from typing_extensions import override\n",
    "\n",
    "from openpi import transforms as _transforms\n",
    "from openpi.models import model as _model\n",
    "from openpi.models import pi0_config\n",
    "from openpi.policies import policy_config\n",
    "from openpi.training import config as config_lib\n",
    "from openpi.training import weight_loaders\n",
    "\n",
    "def _parse_image(image: Any) -> np.ndarray:\n",
    "    array = np.asarray(image)\n",
    "    if np.issubdtype(array.dtype, np.floating):\n",
    "        array = np.clip(array * 255.0, 0, 255).astype(np.uint8)\n",
    "    if array.ndim == 3 and array.shape[0] in (1, 3):\n",
    "        array = np.transpose(array, (1, 2, 0))\n",
    "    return array\n",
    "\n",
    "@dataclasses.dataclass(frozen=True)\n",
    "class UR5Inputs(_transforms.DataTransformFn):\n",
    "    model_type: _model.ModelType = _model.ModelType.PI0\n",
    "\n",
    "    def __call__(self, data: dict) -> dict:\n",
    "        state = np.concatenate([data['joints'], data['gripper']])\n",
    "        base_image = _parse_image(data['base_rgb'])\n",
    "        wrist_image = _parse_image(data['wrist_rgb'])\n",
    "        inputs = {\n",
    "            'state': state,\n",
    "            'image': {\n",
    "                'base_0_rgb': base_image,\n",
    "                'left_wrist_0_rgb': wrist_image,\n",
    "                'right_wrist_0_rgb': np.zeros_like(base_image),\n",
    "            },\n",
    "            'image_mask': {\n",
    "                'base_0_rgb': np.True_,\n",
    "                'left_wrist_0_rgb': np.True_,\n",
    "                'right_wrist_0_rgb': np.True_ if self.model_type == _model.ModelType.PI0_FAST else np.False_,\n",
    "            },\n",
    "        }\n",
    "        if 'prompt' in data:\n",
    "            inputs['prompt'] = data['prompt']\n",
    "        if 'actions' in data:\n",
    "            inputs['actions'] = data['actions']\n",
    "        return inputs\n",
    "\n",
    "@dataclasses.dataclass(frozen=True)\n",
    "class UR5Outputs(_transforms.DataTransformFn):\n",
    "    def __call__(self, data: dict) -> dict:\n",
    "        return {'actions': np.asarray(data['actions'][:, :7])}\n",
    "\n",
    "@dataclasses.dataclass(frozen=True)\n",
    "class LeRobotUR5DataConfig(config_lib.DataConfigFactory):\n",
    "    @override\n",
    "    def create(self, assets_dirs: pathlib.Path, model_config: _model.BaseModelConfig) -> config_lib.DataConfig:\n",
    "        repack_transform = _transforms.Group(\n",
    "            inputs=[\n",
    "                _transforms.RepackTransform(\n",
    "                    {\n",
    "                        'base_rgb': 'image',\n",
    "                        'wrist_rgb': 'wrist_image',\n",
    "                        'joints': 'joints',\n",
    "                        'gripper': 'gripper',\n",
    "                        'prompt': 'prompt',\n",
    "                    }\n",
    "                )\n",
    "            ]\n",
    "        )\n",
    "        data_transforms = _transforms.Group(\n",
    "            inputs=[UR5Inputs(model_type=model_config.model_type)],\n",
    "            outputs=[UR5Outputs()],\n",
    "        )\n",
    "        delta_action_mask = _transforms.make_bool_mask(6, -1)\n",
    "        data_transforms = data_transforms.push(\n",
    "            inputs=[_transforms.DeltaActions(delta_action_mask)],\n",
    "            outputs=[_transforms.AbsoluteActions(delta_action_mask)],\n",
    "        )\n",
    "        model_transforms = config_lib.ModelTransformFactory()(model_config)\n",
    "        return dataclasses.replace(\n",
    "            self.create_base_config(assets_dirs, model_config),\n",
    "            repack_transforms=repack_transform,\n",
    "            data_transforms=data_transforms,\n",
    "            model_transforms=model_transforms,\n",
    "        )\n",
    "\n",
    "def build_ur5_train_config() -> config_lib.TrainConfig:\n",
    "    return config_lib.TrainConfig(\n",
    "        name='pi0_ur5_mujoco',\n",
    "        model=pi0_config.Pi0Config(),\n",
    "        data=LeRobotUR5DataConfig(\n",
    "            repo_id='local/ur5_mujoco',\n",
    "            assets=config_lib.AssetsConfig(\n",
    "                assets_dir='gs://openpi-assets/checkpoints/pi0_base/assets',\n",
    "                asset_id='ur5e',\n",
    "            ),\n",
    "            base_config=config_lib.DataConfig(prompt_from_task=True),\n",
    "        ),\n",
    "        weight_loader=weight_loaders.CheckpointWeightLoader('gs://openpi-assets/checkpoints/pi0_base/params'),\n",
    "    )\n"
   ]
  },
  {
   "cell_type": "code",
   "execution_count": 8,
   "id": "480f9392",
   "metadata": {
    "execution": {
     "iopub.execute_input": "2025-09-16T22:55:03.356498Z",
     "iopub.status.busy": "2025-09-16T22:55:03.355835Z",
     "iopub.status.idle": "2025-09-16T22:55:03.360889Z",
     "shell.execute_reply": "2025-09-16T22:55:03.360578Z"
    }
   },
   "outputs": [
    {
     "name": "stdout",
     "output_type": "stream",
     "text": [
      "Skipping remote checkpoint loading outside Colab; using a zero-action stub policy.\n"
     ]
    }
   ],
   "source": [
    "ur5_config = build_ur5_train_config()\n",
    "if IS_COLAB:\n",
    "    try:\n",
    "        policy = policy_config.create_trained_policy(\n",
    "            ur5_config,\n",
    "            checkpoint_dir='gs://openpi-assets/checkpoints/pi0_base',\n",
    "            default_prompt='move to a ready pose',\n",
    "        )\n",
    "        print('Policy ready; model type:', ur5_config.model.model_type)\n",
    "    except Exception as exc:\n",
    "        print('Failed to load pretrained policy, falling back to a zero-action stub.\\n', exc)\n",
    "\n",
    "        class _ZeroPolicy:\n",
    "            def infer(self, inputs):\n",
    "                return {'actions': np.zeros((1, ur5_config.model.action_dim), dtype=np.float32)}\n",
    "\n",
    "        policy = _ZeroPolicy()\n",
    "else:\n",
    "    print('Skipping remote checkpoint loading outside Colab; using a zero-action stub policy.')\n",
    "\n",
    "    class _ZeroPolicy:\n",
    "        def infer(self, inputs):\n",
    "            return {'actions': np.zeros((1, ur5_config.model.action_dim), dtype=np.float32)}\n",
    "\n",
    "    policy = _ZeroPolicy()"
   ]
  },
  {
   "cell_type": "code",
   "execution_count": 9,
   "id": "693a2f7e",
   "metadata": {
    "execution": {
     "iopub.execute_input": "2025-09-16T22:55:03.362926Z",
     "iopub.status.busy": "2025-09-16T22:55:03.362626Z",
     "iopub.status.idle": "2025-09-16T22:55:04.066201Z",
     "shell.execute_reply": "2025-09-16T22:55:04.065311Z"
    }
   },
   "outputs": [],
   "source": [
    "import mediapy as media\n",
    "import mujoco\n",
    "\n",
    "class UR5MujocoEnv:\n",
    "    def __init__(self, scene_path: str, control_hz: float = 20.0, render_size: int = 224):\n",
    "        self.model = mujoco.MjModel.from_xml_path(scene_path)\n",
    "        self.data = mujoco.MjData(self.model)\n",
    "        mujoco.mj_resetDataKeyframe(self.model, self.data, 0)\n",
    "        mujoco.mj_forward(self.model, self.data)\n",
    "        self._render_size = render_size\n",
    "        try:\n",
    "            self.renderer = mujoco.Renderer(self.model, width=render_size, height=render_size)\n",
    "        except mujoco.FatalError as exc:\n",
    "            print('MuJoCo renderer unavailable, falling back to blank image output.', exc)\n",
    "            self.renderer = None\n",
    "        self.base_camera = self._make_overview_camera() if self.renderer is not None else None\n",
    "        self.wrist_camera = self._make_wrist_camera() if self.renderer is not None else None\n",
    "        self.control_hz = control_hz\n",
    "        self.sim_substeps = max(1, int(round((1.0 / control_hz) / self.model.opt.timestep)))\n",
    "        self._ctrl_target = np.zeros(self.model.nu, dtype=np.float32)\n",
    "        self._joint_lower = self.model.jnt_range[:, 0].copy()\n",
    "        self._joint_upper = self.model.jnt_range[:, 1].copy()\n",
    "        self.reset()\n",
    "\n",
    "    def _make_overview_camera(self):\n",
    "        cam = mujoco.MjvCamera()\n",
    "        mujoco.mjv_defaultCamera(cam)\n",
    "        cam.type = mujoco.mjtCamera.mjCAMERA_FREE\n",
    "        cam.distance = 1.0\n",
    "        cam.azimuth = 90\n",
    "        cam.elevation = -35\n",
    "        cam.lookat = np.array([0.4, 0.0, 0.2])\n",
    "        return cam\n",
    "\n",
    "    def _make_wrist_camera(self):\n",
    "        cam = mujoco.MjvCamera()\n",
    "        mujoco.mjv_defaultCamera(cam)\n",
    "        cam.type = mujoco.mjtCamera.mjCAMERA_TRACKING\n",
    "        cam.trackbodyid = self.model.body('wrist_3_link').id\n",
    "        cam.distance = 0.25\n",
    "        cam.azimuth = 180\n",
    "        cam.elevation = -15\n",
    "        return cam\n",
    "\n",
    "    def reset(self):\n",
    "        mujoco.mj_resetDataKeyframe(self.model, self.data, 0)\n",
    "        mujoco.mj_forward(self.model, self.data)\n",
    "        self._ctrl_target = self.data.ctrl.copy()\n",
    "\n",
    "    def render_images(self):\n",
    "        if self.renderer is None:\n",
    "            blank = np.zeros((self._render_size, self._render_size, 3), dtype=np.uint8)\n",
    "            return blank, blank\n",
    "        self.renderer.update_scene(self.data, camera=self.base_camera)\n",
    "        base = np.asarray(self.renderer.render()).copy()\n",
    "        self.renderer.update_scene(self.data, camera=self.wrist_camera)\n",
    "        wrist = np.asarray(self.renderer.render()).copy()\n",
    "        base = (base * 255).astype(np.uint8)\n",
    "        wrist = (wrist * 255).astype(np.uint8)\n",
    "        return base, wrist\n",
    "\n",
    "    def observe(self, prompt: str) -> dict:\n",
    "        base, wrist = self.render_images()\n",
    "        return {\n",
    "            'base_rgb': base,\n",
    "            'wrist_rgb': wrist,\n",
    "            'joints': self.data.qpos.copy().astype(np.float32),\n",
    "            'gripper': np.zeros(1, dtype=np.float32),\n",
    "            'prompt': prompt,\n",
    "        }\n",
    "\n",
    "    def step(self, action: np.ndarray, smoothing: float = 0.2):\n",
    "        joint_target = np.array(action[: self.model.nq], dtype=np.float32)\n",
    "        joint_target = np.clip(joint_target, self._joint_lower, self._joint_upper)\n",
    "        self._ctrl_target = (1 - smoothing) * self._ctrl_target + smoothing * joint_target\n",
    "        self.data.ctrl[:] = self._ctrl_target\n",
    "        for _ in range(self.sim_substeps):\n",
    "            mujoco.mj_step(self.model, self.data)"
   ]
  },
  {
   "cell_type": "code",
   "execution_count": 10,
   "id": "1bf1cdae",
   "metadata": {
    "execution": {
     "iopub.execute_input": "2025-09-16T22:55:04.069175Z",
     "iopub.status.busy": "2025-09-16T22:55:04.068622Z",
     "iopub.status.idle": "2025-09-16T22:55:04.654493Z",
     "shell.execute_reply": "2025-09-16T22:55:04.653639Z"
    }
   },
   "outputs": [
    {
     "name": "stderr",
     "output_type": "stream",
     "text": [
      "/root/.pyenv/versions/3.11.12/lib/python3.11/site-packages/glfw/__init__.py:917: GLFWError: (65550) b'X11: The DISPLAY environment variable is missing'\n",
      "  warnings.warn(message, GLFWError)\n",
      "/root/.pyenv/versions/3.11.12/lib/python3.11/site-packages/glfw/__init__.py:917: GLFWError: (65537) b'The GLFW library is not initialized'\n",
      "  warnings.warn(message, GLFWError)\n",
      "Exception ignored in: <function Renderer.__del__ at 0x7f4c44c507c0>\n",
      "Traceback (most recent call last):\n",
      "  File \"/root/.pyenv/versions/3.11.12/lib/python3.11/site-packages/mujoco/renderer.py\", line 335, in __del__\n",
      "    self.close()\n",
      "  File \"/root/.pyenv/versions/3.11.12/lib/python3.11/site-packages/mujoco/renderer.py\", line 323, in close\n",
      "    if self._mjr_context:\n",
      "       ^^^^^^^^^^^^^^^^^\n",
      "AttributeError: 'Renderer' object has no attribute '_mjr_context'\n"
     ]
    },
    {
     "name": "stdout",
     "output_type": "stream",
     "text": [
      "MuJoCo renderer unavailable, falling back to blank image output. an OpenGL platform library has not been loaded into this process, this most likely means that a valid OpenGL context has not been created before mjr_makeContext was called\n",
      "Cycle 0: action chunk shape (1, 32)\n",
      "Cycle 1: action chunk shape (1, 32)\n",
      "Cycle 2: action chunk shape (1, 32)\n",
      "Video preview unavailable: Program 'ffmpeg' is not found; perhaps install ffmpeg using 'apt install ffmpeg'.\n"
     ]
    }
   ],
   "source": [
    "env = UR5MujocoEnv(str(SCENE_XML))\n",
    "prompt = 'Move the arm smoothly.'\n",
    "warmup_obs = env.observe(prompt)\n",
    "_ = policy.infer(warmup_obs)\n",
    "\n",
    "frames = []\n",
    "for cycle in range(3):\n",
    "    obs = env.observe(prompt)\n",
    "    action_chunk = policy.infer(obs)['actions']\n",
    "    print(f'Cycle {cycle}: action chunk shape {action_chunk.shape}')\n",
    "    for action in action_chunk[:5]:\n",
    "        env.step(action)\n",
    "        base_img, wrist_img = env.render_images()\n",
    "        panel = np.concatenate([base_img, wrist_img], axis=1)\n",
    "        frames.append(panel)\n",
    "\n",
    "try:\n",
    "    media.show_video(frames, fps=20)\n",
    "except RuntimeError as exc:\n",
    "    print('Video preview unavailable:', exc)"
   ]
  },
  {
   "cell_type": "markdown",
   "id": "1c06bde2",
   "metadata": {},
   "source": [
    "## 3. Next steps\n",
    "\n",
    "* Replace the MuJoCo scene with your task objects; only the camera setup and joint observations need to match the UR5 mapping.\n",
    "* Swap `checkpoint_dir` for your own fine-tuned checkpoint if you trained on UR5 data.\n",
    "* Integrate robot-specific control or gripper dynamics if your simulated setup differs from the simple position-controlled example here."
   ]
  }
 ],
 "metadata": {
  "kernelspec": {
   "display_name": "Python 3",
   "language": "python",
   "name": "python3"
  },
  "language_info": {
   "codemirror_mode": {
    "name": "ipython",
    "version": 3
   },
   "file_extension": ".py",
   "mimetype": "text/x-python",
   "name": "python",
   "nbconvert_exporter": "python",
   "pygments_lexer": "ipython3",
   "version": "3.11.12"
  }
 },
 "nbformat": 4,
 "nbformat_minor": 5
}
